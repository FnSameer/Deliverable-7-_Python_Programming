{
 "cells": [
  {
   "cell_type": "code",
   "execution_count": 17,
   "id": "8453f55e",
   "metadata": {},
   "outputs": [
    {
     "name": "stdout",
     "output_type": "stream",
     "text": [
      "Enter an integer number: 4\n"
     ]
    }
   ],
   "source": [
    "number = int(input(\"Enter an integer number: \"))"
   ]
  },
  {
   "cell_type": "code",
   "execution_count": 18,
   "id": "37c642b0",
   "metadata": {},
   "outputs": [
    {
     "name": "stdout",
     "output_type": "stream",
     "text": [
      "[0, 1, 1, 2]\n",
      "[0, 2, 4, 6]\n",
      "[1, 3, 5, 7]\n"
     ]
    }
   ],
   "source": [
    "even = []\n",
    "odd = []\n",
    "fibonacci = [0,1]\n",
    "\n",
    "if number > 0:\n",
    "    for i in range(number):\n",
    "            even.append(2*i)\n",
    "            odd.append(2*i+1)\n",
    "    for i in range(number):\n",
    "        if i > 1:\n",
    "            fibonacci.append(fibonacci[i-1]+fibonacci[i-2])\n",
    "            \n",
    "            \n",
    "    print(fibonacci)                 \n",
    "    print(even)\n",
    "    print(odd)\n",
    "            \n",
    "else:\n",
    "    print(\"Please enter an integer greater than 0\")"
   ]
  },
  {
   "cell_type": "code",
   "execution_count": 10,
   "id": "fb1c2acf",
   "metadata": {},
   "outputs": [],
   "source": [
    "import pandas as pd\n"
   ]
  },
  {
   "cell_type": "code",
   "execution_count": 19,
   "id": "927c1dd9",
   "metadata": {},
   "outputs": [],
   "source": [
    "numbers_df = pd.DataFrame({'Even':even, 'Odd':odd, 'Fibonacci':fibonacci})"
   ]
  },
  {
   "cell_type": "code",
   "execution_count": 20,
   "id": "730ceb36",
   "metadata": {},
   "outputs": [
    {
     "data": {
      "text/html": [
       "<div>\n",
       "<style scoped>\n",
       "    .dataframe tbody tr th:only-of-type {\n",
       "        vertical-align: middle;\n",
       "    }\n",
       "\n",
       "    .dataframe tbody tr th {\n",
       "        vertical-align: top;\n",
       "    }\n",
       "\n",
       "    .dataframe thead th {\n",
       "        text-align: right;\n",
       "    }\n",
       "</style>\n",
       "<table border=\"1\" class=\"dataframe\">\n",
       "  <thead>\n",
       "    <tr style=\"text-align: right;\">\n",
       "      <th></th>\n",
       "      <th>Even</th>\n",
       "      <th>Odd</th>\n",
       "      <th>Fibonacci</th>\n",
       "    </tr>\n",
       "  </thead>\n",
       "  <tbody>\n",
       "    <tr>\n",
       "      <th>0</th>\n",
       "      <td>0</td>\n",
       "      <td>1</td>\n",
       "      <td>0</td>\n",
       "    </tr>\n",
       "    <tr>\n",
       "      <th>1</th>\n",
       "      <td>2</td>\n",
       "      <td>3</td>\n",
       "      <td>1</td>\n",
       "    </tr>\n",
       "    <tr>\n",
       "      <th>2</th>\n",
       "      <td>4</td>\n",
       "      <td>5</td>\n",
       "      <td>1</td>\n",
       "    </tr>\n",
       "    <tr>\n",
       "      <th>3</th>\n",
       "      <td>6</td>\n",
       "      <td>7</td>\n",
       "      <td>2</td>\n",
       "    </tr>\n",
       "  </tbody>\n",
       "</table>\n",
       "</div>"
      ],
      "text/plain": [
       "   Even  Odd  Fibonacci\n",
       "0     0    1          0\n",
       "1     2    3          1\n",
       "2     4    5          1\n",
       "3     6    7          2"
      ]
     },
     "execution_count": 20,
     "metadata": {},
     "output_type": "execute_result"
    }
   ],
   "source": [
    "numbers_df"
   ]
  },
  {
   "cell_type": "code",
   "execution_count": null,
   "id": "a36beff8",
   "metadata": {},
   "outputs": [],
   "source": []
  }
 ],
 "metadata": {
  "kernelspec": {
   "display_name": "Python 3 (ipykernel)",
   "language": "python",
   "name": "python3"
  },
  "language_info": {
   "codemirror_mode": {
    "name": "ipython",
    "version": 3
   },
   "file_extension": ".py",
   "mimetype": "text/x-python",
   "name": "python",
   "nbconvert_exporter": "python",
   "pygments_lexer": "ipython3",
   "version": "3.10.7"
  }
 },
 "nbformat": 4,
 "nbformat_minor": 5
}
